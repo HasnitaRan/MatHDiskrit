{
  "nbformat": 4,
  "nbformat_minor": 0,
  "metadata": {
    "colab": {
      "name": "UTS ",
      "provenance": [],
      "collapsed_sections": []
    },
    "kernelspec": {
      "name": "python3",
      "display_name": "Python 3"
    },
    "language_info": {
      "name": "python"
    }
  },
  "cells": [
    {
      "cell_type": "code",
      "execution_count": null,
      "metadata": {
        "id": "vxLBVsEEU_Cg"
      },
      "outputs": [],
      "source": [
        "#Nama : Hasnita Rani Kumala\n",
        "#Kelas : 2C\n",
        "#NIM : 21090092"
      ]
    },
    {
      "cell_type": "code",
      "source": [
        "#Soal jawaban nomor 2b\n",
        "\n",
        "kampus=('poltekharber', 'unnes', 'undip', 'unpad', 'unej', 'uns', 'uin', 'ugm', 'ui', 'unair', 'uny', 'poltek ssn', 'ub', 'ups', 'unad')\n",
        "kampus2=['poltekharber', 'unnes', 'undip', 'unpad', 'unej', 'uns', 'uin', 'ugm', 'ui', 'unair', 'uny', 'poltek ssn', 'ub', 'ups', 'unad']\n",
        "kampus3={'poltekharber', 'unnes', 'undip', 'unpad', 'unej', 'uns', 'uin', 'ugm', 'ui', 'unair', 'uny', 'poltek ssn', 'ub', 'ups', 'unad'}\n",
        "\n",
        "print(kampus)\n",
        "print(type(kampus))\n",
        "print(kampus2)\n",
        "print(type(kampus2))\n",
        "print(kampus3)\n",
        "print(type(kampus3))"
      ],
      "metadata": {
        "colab": {
          "base_uri": "https://localhost:8080/"
        },
        "id": "bgiSTt0ecA6r",
        "outputId": "a3c1039e-93d0-4218-85c8-f95a3be71e13"
      },
      "execution_count": 7,
      "outputs": [
        {
          "output_type": "stream",
          "name": "stdout",
          "text": [
            "('poltekharber', 'unnes', 'undip', 'unpad', 'unej', 'uns', 'uin', 'ugm', 'ui', 'unair', 'uny', 'poltek ssn', 'ub', 'ups', 'unad')\n",
            "<class 'tuple'>\n",
            "['poltekharber', 'unnes', 'undip', 'unpad', 'unej', 'uns', 'uin', 'ugm', 'ui', 'unair', 'uny', 'poltek ssn', 'ub', 'ups', 'unad']\n",
            "<class 'list'>\n",
            "{'unpad', 'unej', 'uns', 'ub', 'unnes', 'uin', 'undip', 'poltekharber', 'ugm', 'unad', 'unair', 'ups', 'ui', 'uny', 'poltek ssn'}\n",
            "<class 'set'>\n"
          ]
        }
      ]
    },
    {
      "cell_type": "code",
      "source": [
        "#Soal jawaban nomor 2d\n",
        "teman=('putri', 'kartika', 'ika', 'besta', 'gita', 'febi', 'nurul', 'nana', 'layla', 'cici', 'setra', 'devi', 'doni', 'luna', 'farel', 'annur', 'riya', 'saskia', 'ade','aisyi')\n",
        "teman2=['putri', 'kartika', 'ika', 'besta', 'gita', 'febi', 'nurul', 'nana', 'layla', 'cici', 'setra', 'devi', 'doni', 'luna', 'farel', 'annur', 'riya', 'saskia', 'ade','aisyi']\n",
        "teman3={'putri', 'kartika', 'ika', 'besta', 'gita', 'febi', 'nurul', 'nana', 'layla', 'cici', 'setra', 'devi', 'doni', 'luna', 'farel', 'annur', 'riya', 'saskia', 'ade','aisyi'}\n",
        "print(teman)\n",
        "print(type(teman))\n",
        "print(teman2)\n",
        "print(type(teman2))\n",
        "print(teman3)\n",
        "print(type(teman3))"
      ],
      "metadata": {
        "colab": {
          "base_uri": "https://localhost:8080/"
        },
        "id": "rSehDtEsgrD-",
        "outputId": "0fad4494-8a80-4a78-afc6-4fba0a463157"
      },
      "execution_count": 8,
      "outputs": [
        {
          "output_type": "stream",
          "name": "stdout",
          "text": [
            "('putri', 'kartika', 'ika', 'besta', 'gita', 'febi', 'nurul', 'nana', 'layla', 'cici', 'setra', 'devi', 'doni', 'luna', 'farel', 'annur', 'riya', 'saskia', 'ade', 'aisyi')\n",
            "<class 'tuple'>\n",
            "['putri', 'kartika', 'ika', 'besta', 'gita', 'febi', 'nurul', 'nana', 'layla', 'cici', 'setra', 'devi', 'doni', 'luna', 'farel', 'annur', 'riya', 'saskia', 'ade', 'aisyi']\n",
            "<class 'list'>\n",
            "{'nana', 'farel', 'riya', 'aisyi', 'besta', 'doni', 'setra', 'kartika', 'devi', 'saskia', 'annur', 'ade', 'luna', 'layla', 'febi', 'nurul', 'putri', 'gita', 'cici', 'ika'}\n",
            "<class 'set'>\n"
          ]
        }
      ]
    },
    {
      "cell_type": "code",
      "source": [
        "#Jawaban soal 2f"
      ],
      "metadata": {
        "id": "4fsmXePyeaya"
      },
      "execution_count": null,
      "outputs": []
    },
    {
      "cell_type": "code",
      "source": [
        "#Jawaban soal nomor 3b\n",
        "nilai = int(input(\"Masukkan Nilai: \"))\n",
        "\n",
        "if nilai <= 50:\n",
        "    print(\"Nilai D DINYATAKAN TIDAK LULUS\")\n",
        "elif nilai >= 70:\n",
        "    print(\"Nilai C DINYATAKAN LULUS\")  \n",
        "elif nilai >= 80:\n",
        "    print(\"Nilai B DINYATAKAN LULUS\")\n",
        "elif nilai >= 100:\n",
        "    print(\"Nilai A DINYATAKAN LULUS\")"
      ],
      "metadata": {
        "colab": {
          "base_uri": "https://localhost:8080/"
        },
        "id": "RTemBjF6hDWt",
        "outputId": "9f7b6a2a-6678-45f1-a485-9840fdbb3187"
      },
      "execution_count": 10,
      "outputs": [
        {
          "output_type": "stream",
          "name": "stdout",
          "text": [
            "Masukkan Nilai: 50\n",
            "Nilai D DINYATAKAN TIDAK LULUS\n"
          ]
        }
      ]
    },
    {
      "cell_type": "code",
      "source": [
        "#Soal jawaban nomor 3d\n",
        "a= int(input(\"Masukkan alas segitiga : \"))\n",
        "t= int(input(\"Masukkan tinggi segitiga : \"))\n",
        "\n",
        "luas1 = a*t/2\n",
        "print(\"Luas mula-mula = \", luas1)\n",
        "luas2 = (a+4)*(t+4)/2\n",
        "print(\"Luas setelah ditambah 4 = \", luas2)\n",
        "luas3 = (a*10)*(t*10)/2\n",
        "print(\"Luas setelah dikali 10 = \", luas3)\n",
        "\n",
        "HLplus = luas1 + luas2\n",
        "print(\"Hasil luas penjumlahan = \", HLplus)\n",
        "HLmin = luas3 - luas2\n",
        "print(\"Hasil luas pengurangan\", HLmin)"
      ],
      "metadata": {
        "colab": {
          "base_uri": "https://localhost:8080/"
        },
        "id": "4sC3Us1Wh9WD",
        "outputId": "fa42a344-3c92-4b86-d3cd-804d9bfe589d"
      },
      "execution_count": 11,
      "outputs": [
        {
          "output_type": "stream",
          "name": "stdout",
          "text": [
            "Masukkan alas segitiga : 4\n",
            "Masukkan tinggi segitiga : 9\n",
            "Luas mula-mula =  18.0\n",
            "Luas setelah ditambah 4 =  52.0\n",
            "Luas setelah dikali 10 =  1800.0\n",
            "Hasil luas penjumlahan =  70.0\n",
            "Hasil luas pengurangan 1748.0\n"
          ]
        }
      ]
    },
    {
      "cell_type": "code",
      "source": [
        "#Jawaban soal nomor 4b\n",
        "#Desimal ke biner\n",
        "desimal = int(input('Masukkan NIM: '))\n",
        "biner = bin(desimal).replace(\"0b\",\"\")\n",
        "print(\"Binernya adalah\", biner)\n",
        "\n",
        "#Desimal ke oktal\n",
        "desimal = int(input('Masukkan NIM: '))\n",
        "hexa = hex(desimal).replace(\"0h\",\"\")\n",
        "print(\"Hexanya adalah\", hexa)\n",
        "\n",
        "#Desimal ke oktal\n",
        "desimal = int(input('Masukkan NIM: '))\n",
        "oktal = oct(desimal).replace(\"0o\",\"\")\n",
        "print(\"Oktalnya adalah\", oktal)"
      ],
      "metadata": {
        "colab": {
          "base_uri": "https://localhost:8080/"
        },
        "id": "EwUWlvJLicWT",
        "outputId": "a977cf6d-53e3-4d7b-b865-27f06982473a"
      },
      "execution_count": 17,
      "outputs": [
        {
          "output_type": "stream",
          "name": "stdout",
          "text": [
            "Masukkan NIM: 2109009256\n",
            "Binernya adalah 1111101101101001110110101101000\n",
            "Masukkan NIM: 2109009277\n",
            "Hexanya adalah 0x7db4ed7d\n",
            "Masukkan NIM: 210900959\n",
            "Oktalnya adalah 1444413737\n"
          ]
        }
      ]
    },
    {
      "cell_type": "code",
      "source": [
        "#Jawaban soal nomor 4d\n",
        "#Desimal ke biner\n",
        "desimal = int(input('Masukkan No hp: '))\n",
        "biner = bin(desimal).replace(\"0b\",\"\")\n",
        "print(\"Binernya adalah\", biner)\n",
        "\n",
        "#Desimal ke oktal\n",
        "desimal = int(input('Masukkan No hp: '))\n",
        "hexa = hex(desimal).replace(\"0h\",\"\")\n",
        "print(\"Hexanya adalah\", hexa)\n",
        "\n",
        "#Desimal ke oktal\n",
        "desimal = int(input('Masukkan No hp: '))\n",
        "oktal = oct(desimal).replace(\"0o\",\"\")\n",
        "print(\"Oktalnya adalah\", oktal)"
      ],
      "metadata": {
        "colab": {
          "base_uri": "https://localhost:8080/"
        },
        "id": "ZJK1SQ0Jj686",
        "outputId": "7b8a8b23-76cb-425f-d22f-ebcc16acfb1b"
      },
      "execution_count": 18,
      "outputs": [
        {
          "output_type": "stream",
          "name": "stdout",
          "text": [
            "Masukkan No hp: 081229904439\n",
            "Binernya adalah 1001011101001101011011111101000110111\n",
            "Masukkan No hp: 081229904763\n",
            "Hexanya adalah 0x12e9adfb7b\n",
            "Masukkan No hp: 081229904287\n",
            "Oktalnya adalah 1135153374637\n"
          ]
        }
      ]
    },
    {
      "cell_type": "code",
      "source": [
        "#Jawaban soal nomor 5b\n",
        "def faktorial(x):\n",
        "  if x == 1 :\n",
        "    return 1\n",
        "  else:\n",
        "    return (x * faktorial(x-1)) \n",
        "\n",
        "kendaraan = 10 \n",
        "print(\"Faktorial dari \", kendaraan, \" adalah\", faktorial(kendaraan))\n",
        "\n",
        "def fibonacci(n):\n",
        "   if n == 0 or n == 1:\n",
        "      return n\n",
        "   else:\n",
        "      return (fibonacci(n-1) + fibonacci(n-2))\n",
        "\n",
        "print(\"Deret Fibonacci\", kendaraan, \"adalah\", fibonacci(kendaraan))\n",
        "for i in range(x):\n",
        "   print(fibonacci(i),end=' ')"
      ],
      "metadata": {
        "colab": {
          "base_uri": "https://localhost:8080/"
        },
        "id": "LRfJg4UVk1U2",
        "outputId": "644f8841-9176-4cf2-b2ea-c8a0fbeca796"
      },
      "execution_count": 23,
      "outputs": [
        {
          "output_type": "stream",
          "name": "stdout",
          "text": [
            "Faktorial dari 10  adalah 3628800\n",
            "Deret Fibonacci 10 adalah 55\n",
            "0 1 1 2 3 5 8 13 21 34 "
          ]
        }
      ]
    },
    {
      "cell_type": "code",
      "source": [
        "#Jawaban soal nomor 5d\n",
        "def faktorial(x):\n",
        "  if x == 1 :\n",
        "    return 1\n",
        "  else:\n",
        "    return (x * faktorial(x-1)) \n",
        "\n",
        "jumlahnim = 8 \n",
        "print(\"Faktorial dari jumlah nim saya\", jumlahnim, \" adalah\", faktorial(jumlahnim))\n",
        "\n",
        "def fibonacci(n):\n",
        "   if n == 0 or n == 1:\n",
        "      return n\n",
        "   else:\n",
        "      return (fibonacci(n-1) + fibonacci(n-2))\n",
        "\n",
        "print(\"Deret Fibonacci dari jumlah nim saya\", jumlahnim, \"adalah\", fibonacci(jumlahnim))\n",
        "for i in range(x):\n",
        "   print(fibonacci(i),end=' ')"
      ],
      "metadata": {
        "colab": {
          "base_uri": "https://localhost:8080/"
        },
        "id": "8XSB2noHeB_R",
        "outputId": "d3203d24-9a3d-4c04-f89e-b6289b7436b1"
      },
      "execution_count": 24,
      "outputs": [
        {
          "output_type": "stream",
          "name": "stdout",
          "text": [
            "Faktorial dari jumlah nim saya 8  adalah 40320\n",
            "Deret Fibonacci dari jumlah nim saya 8 adalah 21\n",
            "0 1 1 2 3 5 8 13 21 34 "
          ]
        }
      ]
    },
    {
      "cell_type": "code",
      "source": [
        "#Jawaban soal nomor 5f\n",
        "\n",
        "def fibonacci(n):\n",
        "   if n == 0 or n == 1:\n",
        "      return n\n",
        "   else:\n",
        "      return (fibonacci(n-1) + fibonacci(n-2))\n",
        "\n",
        "x = int(input(\"Masukan Tinggi badan : \"))\n",
        "print(\"Deret Fibonacci\")\n",
        "for i in range(x):\n",
        "   print(fibonacci(i),end=' ')"
      ],
      "metadata": {
        "colab": {
          "base_uri": "https://localhost:8080/"
        },
        "id": "HPRzfaaFoEVd",
        "outputId": "6697d6cf-d496-45d5-97aa-a639c3367c0e"
      },
      "execution_count": null,
      "outputs": [
        {
          "output_type": "stream",
          "name": "stdout",
          "text": [
            "Deret Fibonacci\n",
            "0 1 1 2 3 5 8 13 21 34 55 89 144 233 377 610 987 1597 2584 4181 6765 10946 17711 28657 46368 75025 121393 196418 317811 514229 832040 1346269 2178309 3524578 5702887 9227465 14930352 24157817 39088169 63245986 102334155 165580141 267914296 433494437 701408733 1134903170 1836311903 "
          ]
        }
      ]
    },
    {
      "cell_type": "code",
      "source": [
        "#Jawaban nomer 1b\n",
        "\n",
        "#a=jiika saya bangun pagi\n",
        "#b=saya bangun telat\n",
        "#a -> -b\n",
        "\n",
        "#Jawaban 1d\n",
        "#a=dia belajar Algo\n",
        "# b=dia belajar matematika\n",
        "#-a -> -b\n"
      ],
      "metadata": {
        "id": "l0TE0gZNpCCY"
      },
      "execution_count": null,
      "outputs": []
    }
  ]
}